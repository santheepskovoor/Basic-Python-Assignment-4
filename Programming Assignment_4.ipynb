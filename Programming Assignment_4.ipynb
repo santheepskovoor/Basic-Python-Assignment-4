{
 "cells": [
  {
   "cell_type": "markdown",
   "metadata": {
    "id": "20cb4340"
   },
   "source": [
    "## Programming Assignment_4\n",
    "----------------"
   ]
  },
  {
   "cell_type": "markdown",
   "metadata": {
    "id": "4fdb6695"
   },
   "source": [
    "### 1. Write a Python Program to Find the Factorial of a Number?"
   ]
  },
  {
   "cell_type": "code",
   "execution_count": 1,
   "metadata": {
    "id": "hOeAnUwS8YPP"
   },
   "outputs": [
    {
     "name": "stdout",
     "output_type": "stream",
     "text": [
      "Enter the number 3\n",
      "The factorial of number  3 is 6\n"
     ]
    }
   ],
   "source": [
    "factorial=1 \n",
    "Number=int(input(\"Enter the number \"))\n",
    "if Number<0:\n",
    "    print(\"Sorry! the factorial do not exists for the entered number.\")\n",
    "elif Number==0:\n",
    "    (\"The factoroal of 0 is 1.\")\n",
    "else:\n",
    "    for i in range(1,Number+1):\n",
    "        factorial=factorial *i #Printt the factorial by every element in range\n",
    "    print(\"The factorial of number \",Number,\"is\",factorial)"
   ]
  },
  {
   "cell_type": "markdown",
   "metadata": {
    "id": "e6beef62"
   },
   "source": [
    "### 2. Write a Python Program to Display the multiplication Table?"
   ]
  },
  {
   "cell_type": "code",
   "execution_count": 12,
   "metadata": {},
   "outputs": [
    {
     "name": "stdout",
     "output_type": "stream",
     "text": [
      "Enter the number4\n",
      "4 x 1 = 4\n",
      "4 x 2 = 8\n",
      "4 x 3 = 12\n",
      "4 x 4 = 16\n"
     ]
    }
   ],
   "source": [
    "num= int(input(\"Enter the number\"))\n",
    "for i in range(1,num+1):\n",
    "    mul=num*i\n",
    "    print(num, \"x\" ,i ,\"=\", mul)"
   ]
  },
  {
   "cell_type": "markdown",
   "metadata": {
    "id": "-DGZq5N22z65"
   },
   "source": []
  },
  {
   "cell_type": "markdown",
   "metadata": {
    "id": "7de7eba5"
   },
   "source": [
    "### 3. Write a Python Program to Print the Fibonacci sequence?\n"
   ]
  },
  {
   "cell_type": "code",
   "execution_count": 16,
   "metadata": {},
   "outputs": [
    {
     "name": "stdout",
     "output_type": "stream",
     "text": [
      "How many terms? 5\n",
      "Fibonacci sequence:\n",
      "0\n",
      "1\n",
      "1\n",
      "2\n",
      "3\n"
     ]
    }
   ],
   "source": [
    "# Fibonacci series\n",
    "\n",
    "term = int(input(\"How many terms? \"))\n",
    "\n",
    "# for the initial 2 terms\n",
    "a, b = 0, 1\n",
    "count = 0\n",
    "\n",
    "# if the number of terms is valid\n",
    "if term <= 0:\n",
    "   print(\" Enter a positive integer\")\n",
    "# if there is one term, return b\n",
    "elif term == 1:\n",
    "   print(\"Fibonacci sequence upto\",nterms,\":\")\n",
    "   print(a)\n",
    "# generate fibonacci series\n",
    "else:\n",
    "   print(\"Fibonacci sequence:\")\n",
    "   while count < term:\n",
    "       print(a)\n",
    "       nth = a + b\n",
    "       # update values\n",
    "       a = b\n",
    "       b = nth\n",
    "       count += 1\n"
   ]
  },
  {
   "cell_type": "markdown",
   "metadata": {
    "id": "0446442e"
   },
   "source": [
    "### 4. Write a Python Program to Check Armstrong Number?"
   ]
  },
  {
   "cell_type": "code",
   "execution_count": 1,
   "metadata": {},
   "outputs": [
    {
     "name": "stdout",
     "output_type": "stream",
     "text": [
      "Enter a number: 3\n",
      "3 is not an Armstrong number\n"
     ]
    }
   ],
   "source": [
    "# Python program to check the number is an Armstrong number or not\n",
    "# input\n",
    "number=int(input(\"Enter a number: \"))\n",
    "# sum\n",
    "sum = 0\n",
    "#  sum of the cube of each digit\n",
    "temp = number\n",
    "while temp > 0:\n",
    "   digit = temp % 10\n",
    "   sum += digit ** 3\n",
    "   temp //= 10\n",
    "#  result\n",
    "if number == sum:\n",
    "   print(number,\"is an Armstrong number\")\n",
    "else:\n",
    "   print(number,\"is not an Armstrong number\")"
   ]
  },
  {
   "cell_type": "markdown",
   "metadata": {
    "id": "a6f9adfe"
   },
   "source": [
    "### 5. Write a Python Program to Find Armstrong Number in an Interval?"
   ]
  },
  {
   "cell_type": "code",
   "execution_count": 16,
   "metadata": {},
   "outputs": [
    {
     "name": "stdout",
     "output_type": "stream",
     "text": [
      "125\n",
      "153\n",
      "216\n",
      "370\n",
      "371\n",
      "407\n",
      "729\n"
     ]
    }
   ],
   "source": [
    "for num in range(100,1000):\n",
    "  temp=num\n",
    "  sum=0\n",
    "  while temp>0:\n",
    "      digit=temp%10\n",
    "      sum=sum+digit**3\n",
    "      temp=temp//10\n",
    "      if sum==num:\n",
    "           print (num)"
   ]
  },
  {
   "cell_type": "markdown",
   "metadata": {
    "id": "qbmbp0_822o1"
   },
   "source": []
  },
  {
   "cell_type": "markdown",
   "metadata": {
    "id": "157cad60"
   },
   "source": [
    "### 6. Write a Python Program to Find the Sum of Natural Numbers?"
   ]
  },
  {
   "cell_type": "code",
   "execution_count": 33,
   "metadata": {},
   "outputs": [
    {
     "name": "stdout",
     "output_type": "stream",
     "text": [
      "Enter a number: 3\n",
      "The sum of natural numbers is 6\n"
     ]
    }
   ],
   "source": [
    "number=int(input(\"Enter a number: \"))\n",
    "if number<0:\n",
    "    print(\"Entered number is not valid.Please enter a +ve number\")\n",
    "if number==0:\n",
    "    print(\"Entered number is not valid.Please enter a +ve number\")\n",
    "if number>0:\n",
    "    sum1=0\n",
    "    for i in range(1,number+1):\n",
    "          sum1=sum1+i\n",
    "    print(\"The sum of natural numbers is\",sum1)"
   ]
  }
 ],
 "metadata": {
  "colab": {
   "provenance": []
  },
  "kernelspec": {
   "display_name": "Python 3",
   "language": "python",
   "name": "python3"
  },
  "language_info": {
   "codemirror_mode": {
    "name": "ipython",
    "version": 3
   },
   "file_extension": ".py",
   "mimetype": "text/x-python",
   "name": "python",
   "nbconvert_exporter": "python",
   "pygments_lexer": "ipython3",
   "version": "3.8.5"
  }
 },
 "nbformat": 4,
 "nbformat_minor": 5
}
